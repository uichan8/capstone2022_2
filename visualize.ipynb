{
 "cells": [
  {
   "cell_type": "code",
   "execution_count": 1,
   "metadata": {},
   "outputs": [
    {
     "name": "stderr",
     "output_type": "stream",
     "text": [
      "c:\\Users\\uicha\\AppData\\Local\\Programs\\Python\\Python310\\lib\\site-packages\\tqdm\\auto.py:22: TqdmWarning: IProgress not found. Please update jupyter and ipywidgets. See https://ipywidgets.readthedocs.io/en/stable/user_install.html\n",
      "  from .autonotebook import tqdm as notebook_tqdm\n"
     ]
    }
   ],
   "source": [
    "import torch"
   ]
  },
  {
   "cell_type": "code",
   "execution_count": 64,
   "metadata": {},
   "outputs": [
    {
     "name": "stderr",
     "output_type": "stream",
     "text": [
      "Using cache found in C:\\Users\\uicha/.cache\\torch\\hub\\ultralytics_yolov5_master\n",
      "YOLOv5  2022-11-27 Python-3.10.8 torch-1.13.0+cu117 CUDA:0 (NVIDIA GeForce RTX 3080 Ti, 12288MiB)\n",
      "\n",
      "Fusing layers... \n",
      "YOLOv5s summary: 213 layers, 7225885 parameters, 0 gradients\n",
      "Adding AutoShape... \n"
     ]
    },
    {
     "name": "stdout",
     "output_type": "stream",
     "text": [
      "'cp949' codec can't decode byte 0xf0 in position 9: illegal multibyte sequence\n"
     ]
    }
   ],
   "source": [
    "model = torch.hub.load('ultralytics/yolov5','custom', 'yolov5s.pt')"
   ]
  },
  {
   "cell_type": "code",
   "execution_count": 65,
   "metadata": {},
   "outputs": [
    {
     "name": "stdout",
     "output_type": "stream",
     "text": [
      "(25200, 85)\n"
     ]
    }
   ],
   "source": [
    "import numpy as np\n",
    "a = torch.zeros([1,3,640,640])\n",
    "result = model(a).cpu().numpy()\n",
    "result = result.reshape(result.shape[1:])\n",
    "print(result.shape)"
   ]
  },
  {
   "cell_type": "code",
   "execution_count": 128,
   "metadata": {},
   "outputs": [
    {
     "name": "stdout",
     "output_type": "stream",
     "text": [
      "[[84.40532684326172 99.15868377685547 179.13682556152344 147.6234130859375 0.9108076095581055 2 'car']\n",
      " [189.46414184570312 85.6251449584961 279.63641357421875 152.4964599609375 0.8077476024627686 2 'car']\n",
      " [338.9547424316406 74.58716583251953 402.8216552734375 147.392333984375 0.6368030309677124 2 'car']\n",
      " [342.93255615234375 9.565675735473633 434.9966125488281 258.9519958496094 0.4743460714817047 2 'car']]\n",
      "[[     84.405      99.159      179.14      147.62     0.91081]\n",
      " [     189.46      85.625      279.64       152.5     0.80775]\n",
      " [     338.95      74.587      402.82      147.39      0.6368]\n",
      " [     342.93      9.5657         435      258.95     0.47435]]\n"
     ]
    }
   ],
   "source": [
    "import cv2\n",
    "image = cv2.imread(\"sample.png\")\n",
    "result = model(image).pandas().xyxy[0].to_numpy()\n",
    "print(result)\n",
    "\n",
    "result = model(image).xyxyn[0].cpu().numpy()[:, :-1]\n",
    "result[:,:2] *= np.array([image.shape[1],image.shape[0]])\n",
    "result[:,2:4] *= np.array([image.shape[1],image.shape[0]])\n",
    "print(result)"
   ]
  },
  {
   "cell_type": "code",
   "execution_count": 62,
   "metadata": {},
   "outputs": [
    {
     "name": "stdout",
     "output_type": "stream",
     "text": [
      "Help on Detections in module models.common object:\n",
      "\n",
      "class Detections(builtins.object)\n",
      " |  Detections(ims, pred, files, times=(0, 0, 0), names=None, shape=None)\n",
      " |  \n",
      " |  Methods defined here:\n",
      " |  \n",
      " |  __init__(self, ims, pred, files, times=(0, 0, 0), names=None, shape=None)\n",
      " |      Initialize self.  See help(type(self)) for accurate signature.\n",
      " |  \n",
      " |  __len__(self)\n",
      " |  \n",
      " |  __repr__(self)\n",
      " |      Return repr(self).\n",
      " |  \n",
      " |  __str__(self)\n",
      " |      Return str(self).\n",
      " |  \n",
      " |  crop(self, save=True, save_dir='runs/detect/exp', exist_ok=False)\n",
      " |  \n",
      " |  pandas(self)\n",
      " |  \n",
      " |  print(self)\n",
      " |  \n",
      " |  render(self, labels=True)\n",
      " |  \n",
      " |  save(self, labels=True, save_dir='runs/detect/exp', exist_ok=False)\n",
      " |  \n",
      " |  show(self, labels=True)\n",
      " |  \n",
      " |  tolist(self)\n",
      " |  \n",
      " |  ----------------------------------------------------------------------\n",
      " |  Data descriptors defined here:\n",
      " |  \n",
      " |  __dict__\n",
      " |      dictionary for instance variables (if defined)\n",
      " |  \n",
      " |  __weakref__\n",
      " |      list of weak references to the object (if defined)\n",
      "\n"
     ]
    }
   ],
   "source": [
    "help(model(image))"
   ]
  }
 ],
 "metadata": {
  "kernelspec": {
   "display_name": "Python 3.10.8 64-bit",
   "language": "python",
   "name": "python3"
  },
  "language_info": {
   "codemirror_mode": {
    "name": "ipython",
    "version": 3
   },
   "file_extension": ".py",
   "mimetype": "text/x-python",
   "name": "python",
   "nbconvert_exporter": "python",
   "pygments_lexer": "ipython3",
   "version": "3.10.8"
  },
  "orig_nbformat": 4,
  "vscode": {
   "interpreter": {
    "hash": "6a58dca61b86a3e898f339c80d4efc6b163d89a667b79641154112a9f29870d5"
   }
  }
 },
 "nbformat": 4,
 "nbformat_minor": 2
}
